{
 "cells": [
  {
   "cell_type": "markdown",
   "metadata": {},
   "source": [
    "Prueba de Consola"
   ]
  },
  {
   "cell_type": "code",
   "execution_count": null,
   "metadata": {},
   "outputs": [],
   "source": [
    "import pandas as pd\n",
    "from consultas import cargar_dataset, limpiar_dataset, calcular_ingresos_por_pais, calcular_ingresos_por_experiencia, calcular_empleabilidad, graficar_ingresos_paises, porcentaje_nulos\n",
    "\n",
    "def cargar_menu():\n",
    "    print('Para continuar ingrese el número equivalente a la consulta:')\n",
    "    print('[1] Limpieza de datos')\n",
    "    print('[2] Calcular ingresos por país')\n",
    "    print('[3] Calcular ingresos por experiencia')\n",
    "    print('[4] Calcular empleabilidad')\n",
    "    print('[5] Graficar ingresos paises')\n",
    "    print('[6] Salir')\n",
    "\n",
    "def validar_ingreso(cota_superior: int):\n",
    "    if cota_superior == 6: cargar_menu()\n",
    "    # las opciones lo puse en una lista, porque tambien lo uso cuando el usuario ingresa un nro. de 1 al 100 para el porcentaje no nulos admitido   \n",
    "    Opcion = [i+1 for i in range(cota_superior)]\n",
    "    while True:\n",
    "        try:\n",
    "            sel = int(input(\"Ingrese aquí:\"))\n",
    "            num = Opcion[sel-1]  #si es un número pero esta fuera de la lista de opciones válidas\n",
    "            if (sel < 0): raise NameError('NumNegativo')  # si es un número negativo, pq cómo usé lista, me aceptaba los num. neg. del 1 al 5\n",
    "        except ValueError as e:\n",
    "            print(f\"Favor ingresar un número sólo un número. Tipo de Error: {e}\"),\n",
    "        except IndexError as e:\n",
    "            print(f\"Valor del número incorrecto, selecciona sólo del 1 al {cota_superior}. Tipo de Error: {e}\")\n",
    "        except NameError: \n",
    "            print(\"Favor ingresar sólo números positivos.\")\n",
    "        else:\n",
    "            return num\n",
    "\n",
    "seleccion = {}\n",
    "matriz_Seleccion = {\n",
    "    1: limpiar_dataset,\n",
    "    2: calcular_ingresos_por_pais,\n",
    "    3: calcular_ingresos_por_experiencia,\n",
    "    4: calcular_empleabilidad,\n",
    "    5: graficar_ingresos_paises\n",
    "}\n",
    "\n",
    "df = cargar_dataset(\"developers_info.csv\")\n",
    "df_limpio = pd.DataFrame()\n",
    "print('¡Hola, bienvenido/a!')\n",
    "numero = validar_ingreso(6)\n",
    "sr_pr_nulos = porcentaje_nulos(df)\n",
    "cont = 0\n",
    "while numero != 6:\n",
    "    seleccion[cont] = matriz_Seleccion[numero]\n",
    "    funcion = matriz_Seleccion[numero]\n",
    "    if numero == 1:\n",
    "        while True:\n",
    "            print(\"Ingrese un número máximo de nulos, en porcentaje del 1 al 100, para eliminar columnas que no cumplan esta condición.\")\n",
    "            num_max_null = validar_ingreso(100)\n",
    "            if num_max_null > sr_pr_nulos.loc[\"ConvertedCompYearly\"]:\n",
    "                df_limpio = funcion(df, num_max_null)\n",
    "                print(df_limpio)\n",
    "                cont+=1\n",
    "                break\n",
    "            else:\n",
    "                print(f\"El valor porcentaje máximo nulo que elegiste {num_max_null}% no es válido para realizar las otras selecciones, dado que eliminaras la columna Salarios Anuales, que tiene un porcentaje de nulos del {'{:.2f}'.format(sr_pr_nulos.loc[\"ConvertedCompYearly\"])}%. Trate de elegir un número superior a este. \")\n",
    "    else:\n",
    "        if limpiar_dataset in seleccion:  #si ya ingresó la opcion nro. 1 para tener un df_limpio no vacío\n",
    "            if numero != 5:\n",
    "                print(funcion(df_limpio))\n",
    "                cont+=1\n",
    "            else: # sólo para cuando entres a la opción 5 gráfico, debes tener primero los datos de calcular ingresos por pais\n",
    "                df_p = calcular_ingresos_por_pais(df_limpio)\n",
    "                graficar_ingresos_paises(df_p)\n",
    "                cont+=1\n",
    "        else:\n",
    "            print(\"Primero debes seleccionar limpiar el Dataframe, para llegar a las otras opciones.\")\n",
    "    lista_sel = list(seleccion) #VALIDAR AQUI\n",
    "    #print(f\"Hasta ahora haz seleccionado estas opciones {\" - \".join(lista_sel)}\")        \n",
    "    numero = validar_ingreso(6)\n",
    "print(\"Gracias por participar!\")"
   ]
  },
  {
   "cell_type": "code",
   "execution_count": 64,
   "metadata": {},
   "outputs": [
    {
     "name": "stdout",
     "output_type": "stream",
     "text": [
      "limpiar_dataset - calcular_ingresos_por_pais - calcular_ingresos_por_experiencia - calcular_empleabilidad - graficar_ingresos_paises\n"
     ]
    }
   ],
   "source": [
    "def limpiar_dataset(): print(\"limpiar_dataset\")\n",
    "def calcular_ingresos_por_pais(): print(\"calcular_ingresos_por_pais\")\n",
    "def calcular_ingresos_por_experiencia(): print(\"calcular_ingresos_por_experiencia\")\n",
    "def calcular_empleabilidad(): print(\"calcular_empleabilidad\")\n",
    "def graficar_ingresos_paises(): print(\"graficar_ingresos_paises\")\n",
    "\n",
    "seleccion = {}\n",
    "matriz_Seleccion = {\n",
    "    1: limpiar_dataset,\n",
    "    2: calcular_ingresos_por_pais,\n",
    "    3: calcular_ingresos_por_experiencia,\n",
    "    4: calcular_empleabilidad,\n",
    "    5: graficar_ingresos_paises\n",
    "}\n",
    "cont = 1\n",
    "#numero = 3\n",
    "seleccion = {}\n",
    "for numero in matriz_Seleccion:\n",
    "    seleccion[numero] = matriz_Seleccion[numero].__name__\n",
    "print(f\"{' - '.join(list(seleccion.values()))}\")\n",
    "\n",
    "\n",
    "\n",
    "\n"
   ]
  },
  {
   "cell_type": "code",
   "execution_count": null,
   "metadata": {},
   "outputs": [],
   "source": [
    "df = pd.DataFrame([ [\"CHI\", 5, 3, 4],\n",
    "                    [\"ARG\", 10, 7, 2],\n",
    "                    [\"URU\", 7, 4, 2],\n",
    "                    [\"PAR\", 6, 5, 3],\n",
    "                    [\"BOL\", 0, 2, 10]],\n",
    "                  columns = [\"Pais\", \"Pts\", \"GF\", \"GC\"])\n",
    "\n",
    "# df\n",
    "# df[\"Pts\"]\n",
    "# df.loc[3]\n",
    "# df.iloc[3]\n",
    "# df.loc[df[\"GF\"] < 5]\n",
    "# df[df[\"GF\"] < 5]\n",
    "# df[\"DG\"] = df[\"GF\"] - df[\"GC\"]\n",
    "# df\n",
    "\n"
   ]
  }
 ],
 "metadata": {
  "kernelspec": {
   "display_name": "Python 3",
   "language": "python",
   "name": "python3"
  },
  "language_info": {
   "codemirror_mode": {
    "name": "ipython",
    "version": 3
   },
   "file_extension": ".py",
   "mimetype": "text/x-python",
   "name": "python",
   "nbconvert_exporter": "python",
   "pygments_lexer": "ipython3",
   "version": "3.13.0"
  }
 },
 "nbformat": 4,
 "nbformat_minor": 2
}
